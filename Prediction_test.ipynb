{
 "cells": [
  {
   "cell_type": "code",
   "execution_count": 2,
   "metadata": {},
   "outputs": [
    {
     "name": "stdout",
     "output_type": "stream",
     "text": [
      "Index(['SKU', 'CPUFrequency', 'Cores', 'CPI', 'INSTRUCTIONS_RETIRED',\n",
      "       'HighMembwUtil_Elapsed', 'MemBW(GBps)', 'DRAM B/w Bound',\n",
      "       'Memory Bandwidth Bound', 'L3Bound', 'Frequency(MHz)', 'Flops',\n",
      "       'Performance'],\n",
      "      dtype='object')\n",
      "LR: 3.292230320683876\n",
      "MLPR: 0.49453731589194383\n"
     ]
    },
    {
     "name": "stderr",
     "output_type": "stream",
     "text": [
      "c:\\users\\varun_bawa\\appdata\\local\\programs\\python\\python36\\lib\\site-packages\\sklearn\\neural_network\\_multilayer_perceptron.py:1342: DataConversionWarning: A column-vector y was passed when a 1d array was expected. Please change the shape of y to (n_samples, ), for example using ravel().\n",
      "  y = column_or_1d(y, warn=True)\n"
     ]
    }
   ],
   "source": [
    "import pandas as pd\n",
    "from sklearn import linear_model\n",
    "from sklearn.neural_network import MLPRegressor\n",
    "#df=pd.read_csv('C\\:\\\\Users\\\\Puneet_Singh4\\\\Documents\\\\01_Work\\\\Predictions_intel8280M.csv')\n",
    "\n",
    "df=pd.read_csv(r'Data4ML.csv')\n",
    "print(df.columns)\n",
    "df=df[ (df['MemBW(GBps)'].notna() ) & (df['CPUFrequency'].notna() ) & (df['Cores'].notna() )  ]\n",
    "\n",
    "X=df[['CPUFrequency','Cores']]\n",
    "y=df[['Performance']]\n",
    "\n",
    "regr = linear_model.LinearRegression()\n",
    "regr.fit(X, y)\n",
    "predictedMemBW = regr.predict([[2501,40]])\n",
    "print(\"LR:\",float(predictedMemBW))\n",
    "\n",
    "\n",
    "\n",
    "mlp = MLPRegressor()\n",
    "mlp.random_state=0\n",
    "#X=df[['CPUFrequency','Cores']]\n",
    "#y=df[['MemBW_GBps']]\n",
    "mlp.fit(X, y)\n",
    "#print(mlp)\n",
    "predictedMemBW = mlp.predict([[2501,40]])\n",
    "print(\"MLPR:\",float(predictedMemBW))"
   ]
  },
  {
   "cell_type": "code",
   "execution_count": null,
   "metadata": {},
   "outputs": [],
   "source": []
  }
 ],
 "metadata": {
  "kernelspec": {
   "display_name": "Python 3",
   "language": "python",
   "name": "python3"
  },
  "language_info": {
   "codemirror_mode": {
    "name": "ipython",
    "version": 3
   },
   "file_extension": ".py",
   "mimetype": "text/x-python",
   "name": "python",
   "nbconvert_exporter": "python",
   "pygments_lexer": "ipython3",
   "version": "3.6.5"
  }
 },
 "nbformat": 4,
 "nbformat_minor": 2
}
