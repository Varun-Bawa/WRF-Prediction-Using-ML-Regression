{
 "cells": [
  {
   "cell_type": "code",
   "execution_count": 6,
   "metadata": {
    "scrolled": false
   },
   "outputs": [],
   "source": [
    "import pandas as pd\n",
    "import warnings\n",
    "import matplotlib.pyplot as plt\n",
    "from sklearn import linear_model\n",
    "from sklearn.neural_network import MLPRegressor\n",
    "from sklearn.svm import SVR\n",
    "from sklearn.cross_decomposition import PLSRegression\n",
    "from sklearn.pipeline import Pipeline\n",
    "from sklearn.linear_model import PoissonRegressor\n",
    "from sklearn.model_selection import train_test_split\n",
    "\n",
    "df=pd.read_csv('Data4MLv2.csv')\n",
    "df=df[ (df['MemBW(GBps)'].notna() ) & (df['CPUFrequency'].notna() ) & (df['Cores'].notna() )  ]"
   ]
  },
  {
   "cell_type": "code",
   "execution_count": 7,
   "metadata": {
    "scrolled": true
   },
   "outputs": [
    {
     "data": {
      "text/plain": [
       "Pipeline(steps=[('regressor', PoissonRegressor(alpha=1e-12, max_iter=300))])"
      ]
     },
     "execution_count": 7,
     "metadata": {},
     "output_type": "execute_result"
    }
   ],
   "source": [
    "train_data = df.head(-5)\n",
    "X=df[['CPUFrequency','Cores','Turbo','PeakMemBW','MemBW(GBps)','Frequency(MHz)']]\n",
    "#X=df[['Frequency(MHz)','Cores']]\n",
    "y=df[['Performance']]\n",
    "\n",
    "warnings.filterwarnings('ignore')\n",
    "#Linear Regression\n",
    "regr = linear_model.LinearRegression()\n",
    "regr.fit(X, y)\n",
    "\n",
    "#Multilayer Perceptron Regressor\n",
    "mlp = MLPRegressor(random_state=0)\n",
    "mlp.fit(X, y)\n",
    "\n",
    "#Reidge Regression\n",
    "##A technique used when the data suffers from multicollinearity (independent variables are highly correlated)\n",
    "crf = linear_model.Ridge(alpha=1.0)\n",
    "crf.fit(X, y)\n",
    "\n",
    "#Lasso Regression\n",
    "clf = linear_model.Lasso(alpha=0.1)\n",
    "clf.fit(X, y)\n",
    "\n",
    "#Elastic Net Regression\n",
    "Eregr = linear_model.ElasticNet(random_state=5)\n",
    "Eregr.fit(X, y)\n",
    "#print(regr.coef_)\n",
    "#print(regr.intercept_)\n",
    "\n",
    "#Principal Component Regression \n",
    "\n",
    "##As Increase in cores relates to a decrease in frequency, \n",
    "##so also attempting apprach where independent variables are highly correlated(Unsure about the strength of relation) \n",
    "\n",
    "#Partial Least Squares (PLS) Regression\n",
    "##A technique of principal component regression when you have independent variables highly correlated.\n",
    "##PLS takes the dependent variable into account therefore leads to models that can fit the dependent var with fewer components.\n",
    "pls = PLSRegression(n_components=6)\n",
    "pls.fit(X, y)\n",
    "\n",
    "#Support Vector Regression\n",
    "##It can solve both linear and non-linear models.\n",
    "##Main idea of SVR is to minimize error, individualizing the hyperplane which maximizes the margin.\n",
    "##Most important SVR parameter is Kernel type. It can be #linear,polynomial or gaussian SVR. \n",
    "##We have a non-linear condition so we can select polynomial or gaussian but here we select RBF(a #gaussian type) kernel.\n",
    "svcr = SVR(kernel='rbf')\n",
    "svcr.fit(X,y)\n",
    "\n",
    "#Poisson Regression\n",
    "##Used when dependent variable has count data. Since we have very less data this can fit well\n",
    "poisson_glm = Pipeline([(\"regressor\", PoissonRegressor(alpha=1e-12, max_iter=300))])\n",
    "poisson_glm.fit(X, y)"
   ]
  },
  {
   "cell_type": "code",
   "execution_count": 8,
   "metadata": {},
   "outputs": [
    {
     "name": "stdout",
     "output_type": "stream",
     "text": [
      "Prediction Model outputs\n",
      "Original Value = 3.4\n",
      "\n",
      "Model Name\t\tPrediction Value\t\tPercentage Change(%)\n",
      "\n",
      "Linear Regression:\t\t 3.4940 \t\t\t 2.77\n",
      "MLP Regression:\t\t\t -6.8976 \t\t\t -302.87\n",
      "Ridge Regression:\t\t 3.4940 \t\t\t 2.76\n",
      "Lasso Regression:\t\t 3.4857 \t\t\t 2.52\n",
      "Elastic Net Regression:\t\t 3.4537 \t\t\t 1.58\n",
      "PLS Regression:\t\t\t 3.4940 \t\t\t 2.77\n",
      "Support Vector Regression:\t 3.1171 \t\t\t -8.32\n",
      "Poisson Regression:\t\t 3.4744 \t\t\t 2.19\n"
     ]
    }
   ],
   "source": [
    "CPUFreq=2501\n",
    "Freq=2601.9733\n",
    "Turbo=3900\n",
    "Cores=40\n",
    "MemBw=164.8883\n",
    "PeakMemBW=274.96\n",
    "#L3=2.7\n",
    "#X=df[['CPUFrequency','Cores','Turbo','PeakMemBW','MemBW(GBps)','Frequency(MHz)']]\n",
    "Factors=[[CPUFreq,Cores,Turbo,PeakMemBW,MemBw,Freq]]\n",
    "ob_val = 3.4 #Obtained_value\n",
    "print(\"Prediction Model outputs\\nOriginal Value = \"+str(ob_val)+\"\\n\")\n",
    "print(\"Model Name\\t\\tPrediction Value\\t\\tPercentage Change(%)\\n\")\n",
    "print(\"Linear Regression:\\t\\t\",\"{:.4f}\".format(float(regr.predict(Factors))),\"\\t\\t\\t\",\"{:.2f}\".format(((float(regr.predict(Factors))/ob_val)-1)*100))\n",
    "print(\"MLP Regression:\\t\\t\\t\",\"{:.4f}\".format(float(mlp.predict(Factors))),\"\\t\\t\\t\",\"{:.2f}\".format(((float(mlp.predict(Factors))/ob_val)-1)*100))\n",
    "print(\"Ridge Regression:\\t\\t\",\"{:.4f}\".format(float(crf.predict(Factors))),\"\\t\\t\\t\",\"{:.2f}\".format(((float(crf.predict(Factors))/ob_val)-1)*100))\n",
    "print(\"Lasso Regression:\\t\\t\",\"{:.4f}\".format(float(clf.predict(Factors))),\"\\t\\t\\t\",\"{:.2f}\".format(((float(clf.predict(Factors))/ob_val)-1)*100))\n",
    "print(\"Elastic Net Regression:\\t\\t\",\"{:.4f}\".format(float(Eregr.predict(Factors))),\"\\t\\t\\t\",\"{:.2f}\".format(((float(Eregr.predict(Factors))/ob_val)-1)*100))\n",
    "print(\"PLS Regression:\\t\\t\\t\",\"{:.4f}\".format(float(pls.predict(Factors))),\"\\t\\t\\t\",\"{:.2f}\".format(((float(pls.predict(Factors))/ob_val)-1)*100))\n",
    "print(\"Support Vector Regression:\\t\",\"{:.4f}\".format(float(svcr.predict(Factors))),\"\\t\\t\\t\",\"{:.2f}\".format(((float(svcr.predict(Factors))/ob_val)-1)*100))\n",
    "print(\"Poisson Regression:\\t\\t\",\"{:.4f}\".format(float(poisson_glm.predict(Factors))),\"\\t\\t\\t\",\"{:.2f}\".format(((float(poisson_glm.predict(Factors))/ob_val)-1)*100))"
   ]
  },
  {
   "cell_type": "code",
   "execution_count": null,
   "metadata": {},
   "outputs": [],
   "source": []
  }
 ],
 "metadata": {
  "kernelspec": {
   "display_name": "Python 3",
   "language": "python",
   "name": "python3"
  },
  "language_info": {
   "codemirror_mode": {
    "name": "ipython",
    "version": 3
   },
   "file_extension": ".py",
   "mimetype": "text/x-python",
   "name": "python",
   "nbconvert_exporter": "python",
   "pygments_lexer": "ipython3",
   "version": "3.6.5"
  }
 },
 "nbformat": 4,
 "nbformat_minor": 2
}
